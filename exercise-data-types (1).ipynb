{
 "cells": [
  {
   "cell_type": "markdown",
   "id": "664d8370",
   "metadata": {
    "papermill": {
     "duration": 0.005593,
     "end_time": "2025-03-05T12:27:43.684884",
     "exception": false,
     "start_time": "2025-03-05T12:27:43.679291",
     "status": "completed"
    },
    "tags": []
   },
   "source": [
    "**This notebook is an exercise in the [Intro to Programming](https://www.kaggle.com/learn/intro-to-programming) course.  You can reference the tutorial at [this link](https://www.kaggle.com/alexisbcook/data-types).**\n",
    "\n",
    "---\n"
   ]
  },
  {
   "cell_type": "markdown",
   "id": "a77c0665",
   "metadata": {
    "papermill": {
     "duration": 0.004879,
     "end_time": "2025-03-05T12:27:43.695146",
     "exception": false,
     "start_time": "2025-03-05T12:27:43.690267",
     "status": "completed"
    },
    "tags": []
   },
   "source": [
    "In the tutorial, you learned about four different data types: floats, integers, strings, and booleans.  In this exercise, you'll experiment with them.\n",
    "\n",
    "# Set up the notebook\n",
    "\n",
    "Run the next code cell without changes to set up the notebook."
   ]
  },
  {
   "cell_type": "code",
   "execution_count": 1,
   "id": "a38a12d0",
   "metadata": {
    "execution": {
     "iopub.execute_input": "2025-03-05T12:27:43.706649Z",
     "iopub.status.busy": "2025-03-05T12:27:43.706146Z",
     "iopub.status.idle": "2025-03-05T12:27:44.865697Z",
     "shell.execute_reply": "2025-03-05T12:27:44.864093Z"
    },
    "papermill": {
     "duration": 1.167588,
     "end_time": "2025-03-05T12:27:44.867577",
     "exception": false,
     "start_time": "2025-03-05T12:27:43.699989",
     "status": "completed"
    },
    "tags": []
   },
   "outputs": [
    {
     "name": "stdout",
     "output_type": "stream",
     "text": [
      "Setup complete.\n"
     ]
    }
   ],
   "source": [
    "# Set up the exercise\n",
    "from learntools.core import binder\n",
    "binder.bind(globals())\n",
    "from learntools.intro_to_programming.ex3 import *\n",
    "print('Setup complete.')"
   ]
  },
  {
   "cell_type": "markdown",
   "id": "1e392768",
   "metadata": {
    "papermill": {
     "duration": 0.00545,
     "end_time": "2025-03-05T12:27:44.878272",
     "exception": false,
     "start_time": "2025-03-05T12:27:44.872822",
     "status": "completed"
    },
    "tags": []
   },
   "source": [
    "# Question 1\n",
    "\n",
    "You have seen how to convert a float to an integer with the `int` function.  Try this out yourself by running the code cell below."
   ]
  },
  {
   "cell_type": "code",
   "execution_count": 2,
   "id": "27a3fdf6",
   "metadata": {
    "execution": {
     "iopub.execute_input": "2025-03-05T12:27:44.890433Z",
     "iopub.status.busy": "2025-03-05T12:27:44.889812Z",
     "iopub.status.idle": "2025-03-05T12:27:44.897239Z",
     "shell.execute_reply": "2025-03-05T12:27:44.895824Z"
    },
    "papermill": {
     "duration": 0.015862,
     "end_time": "2025-03-05T12:27:44.899091",
     "exception": false,
     "start_time": "2025-03-05T12:27:44.883229",
     "status": "completed"
    },
    "tags": []
   },
   "outputs": [
    {
     "name": "stdout",
     "output_type": "stream",
     "text": [
      "1.0\n",
      "<class 'float'>\n",
      "1\n",
      "<class 'int'>\n"
     ]
    }
   ],
   "source": [
    "# Define a float\n",
    "y = 1.\n",
    "print(y)\n",
    "print(type(y))\n",
    "\n",
    "# Convert float to integer with the int function\n",
    "z = int(y)\n",
    "print(z)\n",
    "print(type(z))"
   ]
  },
  {
   "cell_type": "markdown",
   "id": "3b2b0a98",
   "metadata": {
    "papermill": {
     "duration": 0.004763,
     "end_time": "2025-03-05T12:27:44.908890",
     "exception": false,
     "start_time": "2025-03-05T12:27:44.904127",
     "status": "completed"
    },
    "tags": []
   },
   "source": [
    "In this case, the float you are using has no numbers after the decimal.  \n",
    "- But what happens when you try to convert a float with a fractional part to an integer?  \n",
    "- How does the outcome of the `int` function change for positive and negative numbers?\n",
    "\n",
    "Use the next code cell to investigate and answer these questions.  Feel free to add or remove any lines of code -- it is your workspace!"
   ]
  },
  {
   "cell_type": "code",
   "execution_count": 3,
   "id": "abf6d8b6",
   "metadata": {
    "execution": {
     "iopub.execute_input": "2025-03-05T12:27:44.920675Z",
     "iopub.status.busy": "2025-03-05T12:27:44.920197Z",
     "iopub.status.idle": "2025-03-05T12:27:44.927493Z",
     "shell.execute_reply": "2025-03-05T12:27:44.925719Z"
    },
    "papermill": {
     "duration": 0.015547,
     "end_time": "2025-03-05T12:27:44.929482",
     "exception": false,
     "start_time": "2025-03-05T12:27:44.913935",
     "status": "completed"
    },
    "tags": []
   },
   "outputs": [
    {
     "name": "stdout",
     "output_type": "stream",
     "text": [
      "1\n",
      "1\n",
      "-3\n",
      "-2\n"
     ]
    }
   ],
   "source": [
    "# Uncomment and run this code to get started!\n",
    "print(int(1.2321))\n",
    "print(int(1.747))\n",
    "print(int(-3.94535))\n",
    "print(int(-2.19774))"
   ]
  },
  {
   "cell_type": "markdown",
   "id": "58ffc1f8",
   "metadata": {
    "papermill": {
     "duration": 0.004853,
     "end_time": "2025-03-05T12:27:44.939586",
     "exception": false,
     "start_time": "2025-03-05T12:27:44.934733",
     "status": "completed"
    },
    "tags": []
   },
   "source": [
    "Once you have an answer, run the code cell below to see the solution.  Viewing the solution will give you credit for answering the problem."
   ]
  },
  {
   "cell_type": "code",
   "execution_count": 4,
   "id": "9a7532ba",
   "metadata": {
    "execution": {
     "iopub.execute_input": "2025-03-05T12:27:44.951327Z",
     "iopub.status.busy": "2025-03-05T12:27:44.950966Z",
     "iopub.status.idle": "2025-03-05T12:27:44.960537Z",
     "shell.execute_reply": "2025-03-05T12:27:44.959363Z"
    },
    "papermill": {
     "duration": 0.017689,
     "end_time": "2025-03-05T12:27:44.962307",
     "exception": false,
     "start_time": "2025-03-05T12:27:44.944618",
     "status": "completed"
    },
    "tags": []
   },
   "outputs": [
    {
     "data": {
      "application/javascript": [
       "parent.postMessage({\"jupyterEvent\": \"custom.exercise_interaction\", \"data\": {\"outcomeType\": 1, \"valueTowardsCompletion\": 0.2, \"interactionType\": 1, \"questionType\": 4, \"questionId\": \"1_FloatToInt\", \"learnToolsVersion\": \"0.3.4\", \"failureMessage\": \"\", \"exceptionClass\": \"\", \"trace\": \"\"}}, \"*\")"
      ],
      "text/plain": [
       "<IPython.core.display.Javascript object>"
      ]
     },
     "metadata": {},
     "output_type": "display_data"
    },
    {
     "data": {
      "text/markdown": [
       "<span style=\"color:#33cc33\">Correct:</span> \n",
       "\n",
       "Negative floats are always rounded UP to the closest integer (for instance, both -1.1 and -1.9 are rounded up to -1). Positive floats are always rounded DOWN to the closest integer (for instance, 2.1 and 2.9 are rounded down to 2)."
      ],
      "text/plain": [
       "Correct: \n",
       "\n",
       "Negative floats are always rounded UP to the closest integer (for instance, both -1.1 and -1.9 are rounded up to -1). Positive floats are always rounded DOWN to the closest integer (for instance, 2.1 and 2.9 are rounded down to 2)."
      ]
     },
     "metadata": {},
     "output_type": "display_data"
    }
   ],
   "source": [
    "# Check your answer (Run this code cell to receive credit!)\n",
    "q1.check()"
   ]
  },
  {
   "cell_type": "markdown",
   "id": "340dd49e",
   "metadata": {
    "papermill": {
     "duration": 0.005437,
     "end_time": "2025-03-05T12:27:44.973566",
     "exception": false,
     "start_time": "2025-03-05T12:27:44.968129",
     "status": "completed"
    },
    "tags": []
   },
   "source": [
    "# Question 2\n",
    "\n",
    "In the tutorial, you learned about booleans (which can take a value of `True` or `False`), in addition to integers, floats, and strings.  For this question, your goal is to determine what happens when you multiply a boolean by any of these data types.  Specifically, \n",
    "- What happens when you multiply an integer or float by `True`?  What happens when you multiply them by `False`?  How does the answer change if the numbers are positive or negative?\n",
    "- What happens when you multiply a string by `True`?  By `False`?\n",
    "\n",
    "Use the next code cell for your investigation. "
   ]
  },
  {
   "cell_type": "code",
   "execution_count": 5,
   "id": "c0588bbf",
   "metadata": {
    "execution": {
     "iopub.execute_input": "2025-03-05T12:27:44.986150Z",
     "iopub.status.busy": "2025-03-05T12:27:44.985750Z",
     "iopub.status.idle": "2025-03-05T12:27:44.992074Z",
     "shell.execute_reply": "2025-03-05T12:27:44.990360Z"
    },
    "papermill": {
     "duration": 0.01516,
     "end_time": "2025-03-05T12:27:44.994188",
     "exception": false,
     "start_time": "2025-03-05T12:27:44.979028",
     "status": "completed"
    },
    "tags": []
   },
   "outputs": [
    {
     "name": "stdout",
     "output_type": "stream",
     "text": [
      "3\n",
      "-3.1\n",
      "<class 'str'>\n",
      "0\n"
     ]
    }
   ],
   "source": [
    "# Uncomment and run this code to get started!\n",
    "print(3 * True)\n",
    "print(-3.1 * True)\n",
    "print(type(\"abc\" * False))\n",
    "print(len(\"abc\" * False))"
   ]
  },
  {
   "cell_type": "markdown",
   "id": "a3dc883b",
   "metadata": {
    "papermill": {
     "duration": 0.005487,
     "end_time": "2025-03-05T12:27:45.006054",
     "exception": false,
     "start_time": "2025-03-05T12:27:45.000567",
     "status": "completed"
    },
    "tags": []
   },
   "source": [
    "Once you have an answer, run the code cell below to see the solution.  Viewing the solution will give you credit for answering the problem."
   ]
  },
  {
   "cell_type": "code",
   "execution_count": 6,
   "id": "073d0585",
   "metadata": {
    "execution": {
     "iopub.execute_input": "2025-03-05T12:27:45.019444Z",
     "iopub.status.busy": "2025-03-05T12:27:45.019069Z",
     "iopub.status.idle": "2025-03-05T12:27:45.026967Z",
     "shell.execute_reply": "2025-03-05T12:27:45.025931Z"
    },
    "papermill": {
     "duration": 0.017326,
     "end_time": "2025-03-05T12:27:45.029123",
     "exception": false,
     "start_time": "2025-03-05T12:27:45.011797",
     "status": "completed"
    },
    "tags": []
   },
   "outputs": [
    {
     "data": {
      "application/javascript": [
       "parent.postMessage({\"jupyterEvent\": \"custom.exercise_interaction\", \"data\": {\"outcomeType\": 1, \"valueTowardsCompletion\": 0.2, \"interactionType\": 1, \"questionType\": 4, \"questionId\": \"2_MultiplyBooleans\", \"learnToolsVersion\": \"0.3.4\", \"failureMessage\": \"\", \"exceptionClass\": \"\", \"trace\": \"\"}}, \"*\")"
      ],
      "text/plain": [
       "<IPython.core.display.Javascript object>"
      ]
     },
     "metadata": {},
     "output_type": "display_data"
    },
    {
     "data": {
      "text/markdown": [
       "<span style=\"color:#33cc33\">Correct:</span> \n",
       "\n",
       "When you multiple an integer or float by a boolean with value `True`, it just returns that same integer or float (and is equivalent to multiplying by 1).  If you multiply an integer or float by a boolean with value `False`, it always returns 0.  This is true for both positive and negative numbers.  If you multiply a string by a boolean with value `True`, it just returns that same string.  And if you multiply a string by a boolean with value `False`, it returns an empty string (or a string with length zero)."
      ],
      "text/plain": [
       "Correct: \n",
       "\n",
       "When you multiple an integer or float by a boolean with value `True`, it just returns that same integer or float (and is equivalent to multiplying by 1).  If you multiply an integer or float by a boolean with value `False`, it always returns 0.  This is true for both positive and negative numbers.  If you multiply a string by a boolean with value `True`, it just returns that same string.  And if you multiply a string by a boolean with value `False`, it returns an empty string (or a string with length zero)."
      ]
     },
     "metadata": {},
     "output_type": "display_data"
    }
   ],
   "source": [
    "# Check your answer (Run this code cell to receive credit!)\n",
    "q2.check()"
   ]
  },
  {
   "cell_type": "markdown",
   "id": "27396400",
   "metadata": {
    "papermill": {
     "duration": 0.005833,
     "end_time": "2025-03-05T12:27:45.041160",
     "exception": false,
     "start_time": "2025-03-05T12:27:45.035327",
     "status": "completed"
    },
    "tags": []
   },
   "source": [
    "# Question 3\n",
    "\n",
    "In this question, you will build off your work from the previous exercise to write a function that estimates the value of a house.\n",
    "\n",
    "Use the next code cell to create a function `get_expected_cost` that takes as input three variables:\n",
    "- `beds` - number of bedrooms (data type float)\n",
    "- `baths` - number of bathrooms (data type float)\n",
    "- `has_basement` - whether or not the house has a basement (data type boolean)\n",
    "\n",
    "It should return the expected cost of a house with those characteristics. Assume that:\n",
    "- the expected cost for a house with 0 bedrooms and 0 bathrooms, and no basement is 80000, \n",
    "- each bedroom adds 30000 to the expected cost,\n",
    "- each bathroom adds 10000 to the expected cost, and\n",
    "- a basement adds 40000 to the expected cost.\n",
    "\n",
    "For instance,\n",
    "- a house with 1 bedroom, 1 bathroom, and no basement has an expected cost of 80000 + 30000 + 10000 = 120000.  This value will be calculated with `get_expected_cost(1, 1, False)`.\n",
    "- a house with 2 bedrooms, 1 bathroom, and a basement has an expected cost of 80000 + 2*30000 + 10000 + 40000 = 190000.  This value will be calculated with `get_expected_cost(2, 1, True)`.\n",
    "\n",
    "Remember you can always get a hint by uncommenting `q3.hint()` in the code cell following the next!"
   ]
  },
  {
   "cell_type": "code",
   "execution_count": 7,
   "id": "d272fb92",
   "metadata": {
    "execution": {
     "iopub.execute_input": "2025-03-05T12:27:45.055495Z",
     "iopub.status.busy": "2025-03-05T12:27:45.055153Z",
     "iopub.status.idle": "2025-03-05T12:27:45.065479Z",
     "shell.execute_reply": "2025-03-05T12:27:45.063961Z"
    },
    "papermill": {
     "duration": 0.020047,
     "end_time": "2025-03-05T12:27:45.067650",
     "exception": false,
     "start_time": "2025-03-05T12:27:45.047603",
     "status": "completed"
    },
    "tags": []
   },
   "outputs": [
    {
     "data": {
      "application/javascript": [
       "parent.postMessage({\"jupyterEvent\": \"custom.exercise_interaction\", \"data\": {\"outcomeType\": 1, \"valueTowardsCompletion\": 0.2, \"interactionType\": 1, \"questionType\": 2, \"questionId\": \"3_EstimateHouseValueBool\", \"learnToolsVersion\": \"0.3.4\", \"failureMessage\": \"\", \"exceptionClass\": \"\", \"trace\": \"\"}}, \"*\")"
      ],
      "text/plain": [
       "<IPython.core.display.Javascript object>"
      ]
     },
     "metadata": {},
     "output_type": "display_data"
    },
    {
     "data": {
      "text/markdown": [
       "<span style=\"color:#33cc33\">Correct</span>"
      ],
      "text/plain": [
       "Correct"
      ]
     },
     "metadata": {},
     "output_type": "display_data"
    }
   ],
   "source": [
    "# TODO: Complete the function\n",
    "def get_expected_cost(beds,baths,has_basement):\n",
    "    value =80000+30000*beds+10000*baths+40000*has_basement \n",
    "    return value\n",
    "\n",
    "# Check your answer \n",
    "q3.check()"
   ]
  },
  {
   "cell_type": "code",
   "execution_count": null,
   "id": "daeff846",
   "metadata": {
    "papermill": {
     "duration": 0.006645,
     "end_time": "2025-03-05T12:27:45.080944",
     "exception": false,
     "start_time": "2025-03-05T12:27:45.074299",
     "status": "completed"
    },
    "tags": []
   },
   "outputs": [],
   "source": []
  },
  {
   "cell_type": "markdown",
   "id": "4a85ebc8",
   "metadata": {
    "papermill": {
     "duration": 0.006325,
     "end_time": "2025-03-05T12:27:45.093561",
     "exception": false,
     "start_time": "2025-03-05T12:27:45.087236",
     "status": "completed"
    },
    "tags": []
   },
   "source": [
    "# Question 4\n",
    "\n",
    "We'll continue our study of boolean arithmetic.  For this question, your task is to provide a description of what happpens when you add booleans. \n",
    "\n",
    "Use the next code cell for your investigation.  Feel free to add or remove any lines of code - use it as your workspace!"
   ]
  },
  {
   "cell_type": "code",
   "execution_count": 8,
   "id": "60331323",
   "metadata": {
    "execution": {
     "iopub.execute_input": "2025-03-05T12:27:45.107398Z",
     "iopub.status.busy": "2025-03-05T12:27:45.107027Z",
     "iopub.status.idle": "2025-03-05T12:27:45.113831Z",
     "shell.execute_reply": "2025-03-05T12:27:45.111979Z"
    },
    "papermill": {
     "duration": 0.015989,
     "end_time": "2025-03-05T12:27:45.115768",
     "exception": false,
     "start_time": "2025-03-05T12:27:45.099779",
     "status": "completed"
    },
    "tags": []
   },
   "outputs": [
    {
     "name": "stdout",
     "output_type": "stream",
     "text": [
      "0\n",
      "1\n",
      "1\n",
      "2\n",
      "3\n"
     ]
    }
   ],
   "source": [
    "print(False + False)\n",
    "print(True + False)\n",
    "print(False + True)\n",
    "print(True + True)\n",
    "print(False + True + True + True)"
   ]
  },
  {
   "cell_type": "markdown",
   "id": "e2a6ae5b",
   "metadata": {
    "papermill": {
     "duration": 0.006033,
     "end_time": "2025-03-05T12:27:45.128483",
     "exception": false,
     "start_time": "2025-03-05T12:27:45.122450",
     "status": "completed"
    },
    "tags": []
   },
   "source": [
    "Once you have an answer, run the code cell below to see the solution.  Viewing the solution will give you credit for answering the problem."
   ]
  },
  {
   "cell_type": "code",
   "execution_count": 9,
   "id": "4ac0cb01",
   "metadata": {
    "execution": {
     "iopub.execute_input": "2025-03-05T12:27:45.142508Z",
     "iopub.status.busy": "2025-03-05T12:27:45.142165Z",
     "iopub.status.idle": "2025-03-05T12:27:45.149973Z",
     "shell.execute_reply": "2025-03-05T12:27:45.148824Z"
    },
    "papermill": {
     "duration": 0.016845,
     "end_time": "2025-03-05T12:27:45.151712",
     "exception": false,
     "start_time": "2025-03-05T12:27:45.134867",
     "status": "completed"
    },
    "tags": []
   },
   "outputs": [
    {
     "data": {
      "application/javascript": [
       "parent.postMessage({\"jupyterEvent\": \"custom.exercise_interaction\", \"data\": {\"outcomeType\": 1, \"valueTowardsCompletion\": 0.2, \"interactionType\": 1, \"questionType\": 4, \"questionId\": \"4_AddingBooleans\", \"learnToolsVersion\": \"0.3.4\", \"failureMessage\": \"\", \"exceptionClass\": \"\", \"trace\": \"\"}}, \"*\")"
      ],
      "text/plain": [
       "<IPython.core.display.Javascript object>"
      ]
     },
     "metadata": {},
     "output_type": "display_data"
    },
    {
     "data": {
      "text/markdown": [
       "<span style=\"color:#33cc33\">Correct:</span> \n",
       "\n",
       "When you add booleans, adding `False` is equivalent to adding 0, and adding `True` is equivalent to adding 1."
      ],
      "text/plain": [
       "Correct: \n",
       "\n",
       "When you add booleans, adding `False` is equivalent to adding 0, and adding `True` is equivalent to adding 1."
      ]
     },
     "metadata": {},
     "output_type": "display_data"
    }
   ],
   "source": [
    "# Check your answer (Run this code cell to receive credit!)\n",
    "q4.check()"
   ]
  },
  {
   "cell_type": "markdown",
   "id": "f668b5f0",
   "metadata": {
    "papermill": {
     "duration": 0.006544,
     "end_time": "2025-03-05T12:27:45.165400",
     "exception": false,
     "start_time": "2025-03-05T12:27:45.158856",
     "status": "completed"
    },
    "tags": []
   },
   "source": [
    "# 🌶️ Question 5\n",
    "\n",
    "You own an online shop where you sell rings with custom engravings.  You offer both gold plated and solid gold rings.\n",
    "- Gold plated rings have a base cost of \\\\$50, and you charge \\\\$7 per engraved unit.  \n",
    "- Solid gold rings have a base cost of \\\\$100, and you charge \\\\$10 per engraved unit.\n",
    "- Spaces and punctuation are counted as engraved units.\n",
    "\n",
    "Write a function `cost_of_project()` that takes two arguments:\n",
    "- `engraving` - a Python string with the text of the engraving\n",
    "- `solid_gold` - a Boolean that indicates whether the ring is solid gold\n",
    "\n",
    "It should return the cost of the project.  This question should be fairly challenging, and you may need a hint."
   ]
  },
  {
   "cell_type": "code",
   "execution_count": 10,
   "id": "2bd2bb6a",
   "metadata": {
    "execution": {
     "iopub.execute_input": "2025-03-05T12:27:45.180050Z",
     "iopub.status.busy": "2025-03-05T12:27:45.179709Z",
     "iopub.status.idle": "2025-03-05T12:27:45.188852Z",
     "shell.execute_reply": "2025-03-05T12:27:45.187665Z"
    },
    "papermill": {
     "duration": 0.018188,
     "end_time": "2025-03-05T12:27:45.190614",
     "exception": false,
     "start_time": "2025-03-05T12:27:45.172426",
     "status": "completed"
    },
    "tags": []
   },
   "outputs": [
    {
     "data": {
      "application/javascript": [
       "parent.postMessage({\"jupyterEvent\": \"custom.exercise_interaction\", \"data\": {\"outcomeType\": 1, \"valueTowardsCompletion\": 0.2, \"interactionType\": 1, \"questionType\": 2, \"questionId\": \"5_CustomEngravings\", \"learnToolsVersion\": \"0.3.4\", \"failureMessage\": \"\", \"exceptionClass\": \"\", \"trace\": \"\"}}, \"*\")"
      ],
      "text/plain": [
       "<IPython.core.display.Javascript object>"
      ]
     },
     "metadata": {},
     "output_type": "display_data"
    },
    {
     "data": {
      "text/markdown": [
       "<span style=\"color:#33cc33\">Correct</span>"
      ],
      "text/plain": [
       "Correct"
      ]
     },
     "metadata": {},
     "output_type": "display_data"
    }
   ],
   "source": [
    "def cost_of_project(engraving, solid_gold):\n",
    "    cost =solid_gold*(100+10*len(engraving))+(not solid_gold)*(50+7*len(engraving))\n",
    "    return cost\n",
    "\n",
    "# Check your answered \n",
    "q5.check()"
   ]
  },
  {
   "cell_type": "code",
   "execution_count": null,
   "id": "486da938",
   "metadata": {
    "papermill": {
     "duration": 0.006072,
     "end_time": "2025-03-05T12:27:45.203073",
     "exception": false,
     "start_time": "2025-03-05T12:27:45.197001",
     "status": "completed"
    },
    "tags": []
   },
   "outputs": [],
   "source": []
  },
  {
   "cell_type": "markdown",
   "id": "1d2d6733",
   "metadata": {
    "papermill": {
     "duration": 0.006237,
     "end_time": "2025-03-05T12:27:45.217347",
     "exception": false,
     "start_time": "2025-03-05T12:27:45.211110",
     "status": "completed"
    },
    "tags": []
   },
   "source": [
    "Run the next code cell to calculate the cost of engraving `Charlie+Denver` on a solid gold ring."
   ]
  },
  {
   "cell_type": "markdown",
   "id": "c66f6cb5",
   "metadata": {
    "papermill": {
     "duration": 0.00676,
     "end_time": "2025-03-05T12:27:45.231015",
     "exception": false,
     "start_time": "2025-03-05T12:27:45.224255",
     "status": "completed"
    },
    "tags": []
   },
   "source": [
    "Use the next code cell to calculate the cost of engraving `08/10/2000` on a gold plated ring."
   ]
  },
  {
   "cell_type": "markdown",
   "id": "a0549743",
   "metadata": {
    "papermill": {
     "duration": 0.005957,
     "end_time": "2025-03-05T12:27:45.243613",
     "exception": false,
     "start_time": "2025-03-05T12:27:45.237656",
     "status": "completed"
    },
    "tags": []
   },
   "source": [
    "# Keep going\n",
    "\n",
    "Continue to the next lesson to **[learn about conditions and conditional statements](https://www.kaggle.com/alexisbcook/conditions-and-conditional-statements)**."
   ]
  },
  {
   "cell_type": "markdown",
   "id": "99c28894",
   "metadata": {
    "papermill": {
     "duration": 0.007165,
     "end_time": "2025-03-05T12:27:45.257858",
     "exception": false,
     "start_time": "2025-03-05T12:27:45.250693",
     "status": "completed"
    },
    "tags": []
   },
   "source": [
    "---\n",
    "\n",
    "\n",
    "\n",
    "\n",
    "*Have questions or comments? Visit the [course discussion forum](https://www.kaggle.com/learn/intro-to-programming/discussion) to chat with other learners.*"
   ]
  }
 ],
 "metadata": {
  "kaggle": {
   "accelerator": "none",
   "dataSources": [],
   "isGpuEnabled": false,
   "isInternetEnabled": false,
   "language": "python",
   "sourceType": "notebook"
  },
  "kernelspec": {
   "display_name": "Python 3",
   "language": "python",
   "name": "python3"
  },
  "language_info": {
   "codemirror_mode": {
    "name": "ipython",
    "version": 3
   },
   "file_extension": ".py",
   "mimetype": "text/x-python",
   "name": "python",
   "nbconvert_exporter": "python",
   "pygments_lexer": "ipython3",
   "version": "3.10.12"
  },
  "papermill": {
   "default_parameters": {},
   "duration": 5.489372,
   "end_time": "2025-03-05T12:27:46.087682",
   "environment_variables": {},
   "exception": null,
   "input_path": "__notebook__.ipynb",
   "output_path": "__notebook__.ipynb",
   "parameters": {},
   "start_time": "2025-03-05T12:27:40.598310",
   "version": "2.3.3"
  }
 },
 "nbformat": 4,
 "nbformat_minor": 5
}
